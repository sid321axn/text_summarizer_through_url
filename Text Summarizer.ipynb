{
 "cells": [
  {
   "cell_type": "markdown",
   "metadata": {},
   "source": [
    "# Text Summarizer from websites"
   ]
  },
  {
   "cell_type": "code",
   "execution_count": 19,
   "metadata": {},
   "outputs": [],
   "source": [
    "import bs4 as bs  \n",
    "import urllib.request  \n",
    "import re\n",
    "from gensim.summarization.summarizer import summarize\n",
    "from gensim.summarization import keywords\n",
    "\n",
    "\n",
    "scraped_data = urllib.request.urlopen('https://en.wikipedia.org/wiki/Isaac_Newton')  \n",
    "article = scraped_data.read()\n",
    "\n",
    "parsed_article = bs.BeautifulSoup(article,'lxml')\n",
    "\n",
    "paragraphs = parsed_article.find_all('p')\n",
    "\n",
    "article_text = \"\"\n",
    "\n",
    "for p in paragraphs:  \n",
    "    article_text += p.text"
   ]
  },
  {
   "cell_type": "code",
   "execution_count": 20,
   "metadata": {},
   "outputs": [
    {
     "data": {
      "text/plain": [
       "'\\n\\nSir Isaac Newton FRS PRS (25 December 1642\\xa0– 20 March 1726/27[a]) was an English mathematician, physicist, astronomer, theologian, and author (described in his own day as a \"natural philosopher\") who is widely recognised as one of the most influential scientists of all time, and a key figure in the scientific revolution. His book Philosophiæ Naturalis Principia Mathematica (\"Mathematical Principles of Natural Philosophy\"), first published in 1687, laid the foundations of classical mechanics. Newton also made seminal contributions to optics, and shares credit with Gottfried Wilhelm Leibniz for developing the infinitesimal calculus.\\nIn Principia, Newton formulated the laws of motion and universal gravitation that formed the dominant scientific viewpoint until it was superseded by the theory of relativity. Newton used his mathematical description of gravity to prove Kepler\\'s laws of planetary motion, account for tides, the trajectories of comets, the precession of the equinoxes and other phenomena, eradicating doubt about the Solar System\\'s heliocentricity. He demonstrated that the motion of objects on Earth and celestial bodies could be accounted for by the same principles. Newton\\'s inference that the Earth is an oblate spheroid was later confirmed by the geodetic measurements of Maupertuis, La Condamine, and others, convincing most European scientists of the superiority of Newtonian mechanics over earlier systems.\\nNewton built the first practical reflecting telescope and developed a sophisticated theory of colour based on the observation that a prism separates white light into the colours of the visible spectrum. His work on light was collected in his highly influential book Opticks, published in 1704. He also formulated an empirical law of cooling, made the first theoretical calculation of the speed of sound, and introduced the notion of a Newtonian fluid. In addition to his work on calculus, as a mathematician Newton contributed to the study of power series, generalised the binomial theorem to non-integer exponents, developed a method for approximating the roots of a function, and classified most of the cubic plane curves.\\nNewton was a fellow of Trinity College and the second Lucasian Professor of Mathematics at the University of Cambridge. He was a devout but unorthodox Christian who privately rejected the doctrine of the Trinity. Unusually for a member of the Cambridge faculty of the day, he refused to take holy orders in the Church of England. Beyond his work on the mathematical sciences, Newton dedicated much of his time to the study of alchemy and biblical chronology, but most of his work in those areas remained unpublished until long after his death. Politically and personally tied to the Whig party, Newton served two brief terms as Member of Parliament for the University of Cambridge, in 1689–90 and 1701–02. He was knighted by Queen Anne in 1705 and spent the last three decades of his life in London, serving as Warden (1696–1700) and Master (1700–1727) of the Royal Mint, as well as president of the Royal Society (1703–1727).\\nIsaac Newton was born (according to the Julian calendar, in use in England at the time) on Christmas Day, 25 December 1642 (NS 4 January 1643[a]) \"an hour or two after midnight\",[6] at Woolsthorpe Manor in Woolsthorpe-by-Colsterworth, a hamlet in the county of Lincolnshire. His father, also named Isaac Newton, had died three months before. Born prematurely, Newton was a small child; his mother Hannah Ayscough reportedly said that he could have fit inside a quart mug.[7] When Newton was three, his mother remarried and went to live with her new husband, the Reverend Barnabas Smith, leaving her son in the care of his maternal grandmother, Margery Ayscough. Newton disliked his stepfather and maintained some enmity towards his mother for marrying him, as revealed by this entry in a list of sins committed up to the age of 19: \"Threatening my father and mother Smith to burn them and the house over them.\"[8] Newton\\'s mother had three children from her second marriage.[9]\\nFrom the age of about twelve until he was seventeen, Newton was educated at The King\\'s School, Grantham, which taught Latin and Greek and probably imparted a significant foundation of mathematics.[10] He was removed from school, and returned to Woolsthorpe-by-Colsterworth by October 1659. His mother, widowed for the second time, attempted to make him a farmer, an occupation he hated.[11] Henry Stokes, master at The King\\'s School, persuaded his mother to send him back to school. Motivated partly by a desire for revenge against a schoolyard bully, he became the top-ranked student,[12] distinguishing himself mainly by building sundials and models of windmills.[13]\\nIn June 1661, he was admitted to Trinity College, Cambridge, on the recommendation of his uncle Rev William Ayscough, who had studied there. He started as a subsizar—paying his way by performing valet\\'s duties—until he was awarded a scholarship in 1664, guaranteeing him four more years until he could get his MA.[14] At that time, the college\\'s teachings were based on those of Aristotle, whom Newton supplemented with modern philosophers such as Descartes, and astronomers such as Galileo and Thomas Street, through whom he learned of Kepler\\'s work. He set down in his notebook a series of \"Quaestiones\" about mechanical philosophy as he found it. In 1665, he discovered the generalised binomial theorem and began to develop a mathematical theory that later became calculus. Soon after Newton had obtained his BA degree in August 1665, the university temporarily closed as a precaution against the Great Plague. Although he had been undistinguished as a Cambridge student,[15] Newton\\'s private studies at his home in Woolsthorpe over the subsequent two years saw the development of his theories on calculus,[16] optics, and the law of gravitation.\\nIn April 1667, he returned to Cambridge and in October was elected as a fellow of Trinity.[17][18] Fellows were required to become ordained priests, although this was not enforced in the restoration years and an assertion of conformity to the Church of England was sufficient. However, by 1675 the issue could not be avoided and by then his unconventional views stood in the way.[19] Nevertheless, Newton managed to avoid it by means of a special permission from Charles II.\\nHis studies had impressed the Lucasian professor Isaac Barrow, who was more anxious to develop his own religious and administrative potential (he became master of Trinity two years later); in 1669 Newton succeeded him, only one year after receiving his MA. He was elected a Fellow of the Royal Society (FRS) in 1672.[2]\\nNewton\\'s work has been said \"to distinctly advance every branch of mathematics then studied.\"[21] His work on the subject usually referred to as fluxions or calculus, seen in a manuscript of October 1666, is now published among Newton\\'s mathematical papers.[22] The author of the manuscript De analysi per aequationes numero terminorum infinitas, sent by Isaac Barrow to John Collins in June 1669, was identified by Barrow in a letter sent to Collins in August of that year as \"[...]\\xa0of an extraordinary genius and proficiency in these things.\"[23]\\nNewton later became involved in a dispute with Leibniz over priority in the development of calculus (the Leibniz–Newton calculus controversy). Most modern historians believe that Newton and Leibniz developed calculus independently, although with very different mathematical notations. Occasionally it has been suggested that Newton published almost nothing about it until 1693, and did not give a full account until 1704, while Leibniz began publishing a full account of his methods in 1684. Leibniz\\'s notation and \"differential Method\", nowadays recognised as much more convenient notations, were adopted by continental European mathematicians, and after 1820 or so, also by British mathematicians.[citation needed]\\nSuch a suggestion fails to account for the calculus in Book 1 of Newton\\'s Principia itself and in its forerunner manuscripts, such as De motu corporum in gyrum of 1684; this content has been pointed out by critics[Like whom?] of both Newton\\'s time and modern times.[citation needed]\\nHis work extensively uses calculus in geometric form based on limiting values of the ratios of vanishingly small quantities: in the Principia itself, Newton gave demonstration of this under the name of \"the method of first and last ratios\"[24] and explained why he put his expositions in this form,[25] remarking also that \"hereby the same thing is performed as by the method of indivisibles.\"[26]\\nBecause of this, the Principia has been called \"a book dense with the theory and application of the infinitesimal calculus\" in modern times[27] and in Newton\\'s time \"nearly all of it is of this calculus.\"[28] His use of methods involving \"one or more orders of the infinitesimally small\" is present in his De motu corporum in gyrum of 1684[29] and in his papers on motion \"during the two decades preceding 1684\".[30]\\nNewton had been reluctant to publish his calculus because he feared controversy and criticism.[31] He was close to the Swiss mathematician Nicolas Fatio de Duillier. In 1691, Duillier started to write a new version of Newton\\'s Principia, and corresponded with Leibniz.[32] In 1693, the relationship between Duillier and Newton deteriorated and the book was never completed.[citation needed]\\nStarting in 1699, other members[who?] of the Royal Society accused Leibniz of plagiarism.[33] The dispute then broke out in full force in 1711 when the Royal Society proclaimed in a study that it was Newton who was the true discoverer and labelled Leibniz a fraud; it was later found that Newton wrote the study\\'s concluding remarks on Leibniz. Thus began the bitter controversy which marred the lives of both Newton and Leibniz until the latter\\'s death in 1716.[34]\\nNewton is generally credited with the generalised binomial theorem, valid for any exponent. He discovered Newton\\'s identities, Newton\\'s method, classified cubic plane curves (polynomials of degree three in two variables), made substantial contributions to the theory of finite differences, and was the first to use fractional indices and to employ coordinate geometry to derive solutions to Diophantine equations. He approximated partial sums of the harmonic series by logarithms (a precursor to Euler\\'s summation formula) and was the first to use power series with confidence and to revert power series. Newton\\'s work on infinite series was inspired by Simon Stevin\\'s decimals.[35]\\nWhen Newton received his MA and became a Fellow of the \"College of the Holy and Undivided Trinity\" in 1667, he made the commitment that \"I will either set Theology as the object of my studies and will take holy orders when the time prescribed by these statutes [7\\xa0years] arrives, or I will resign from the college.\"[36] Up until this point he had not thought much about religion and had twice signed his agreement to the thirty-nine articles, the basis of Church of England doctrine.\\nHe was appointed Lucasian Professor of Mathematics in 1669, on Barrow\\'s recommendation. During that time, any Fellow of a college at Cambridge or Oxford was required to take holy orders and become an ordained Anglican priest. However, the terms of the Lucasian professorship required that the holder not be active in the church – presumably[weasel\\xa0words] so as to have more time for science. Newton argued that this should exempt him from the ordination requirement, and Charles II, whose permission was needed, accepted this argument. Thus a conflict between Newton\\'s religious views and Anglican orthodoxy was averted.[37]\\nIn 1666, Newton observed that the spectrum of colours exiting a prism in the position of minimum deviation is oblong, even when the light ray entering the prism is circular, which is to say, the prism refracts different colours by different angles.[39][40] This led him to conclude that colour is a property intrinsic to light—a point which had been debated in prior years.\\nFrom 1670 to 1672, Newton lectured on optics.[41] During this period he investigated the refraction of light, demonstrating that the multicoloured spectrum produced by a prism could be recomposed into white light by a lens and a second prism.[42] Modern scholarship has revealed that Newton\\'s analysis and resynthesis of white light owes a debt to corpuscular alchemy.[43]\\nHe showed that coloured light does not change its properties by separating out a coloured beam and shining it on various objects, and that regardless of whether reflected, scattered, or transmitted, the light remains the same colour. Thus, he observed that colour is the result of objects interacting with already-coloured light rather than objects generating the colour themselves. This is known as Newton\\'s theory of colour.[44]\\nFrom this work, he concluded that the lens of any refracting telescope would suffer from the dispersion of light into colours (chromatic aberration). As a proof of the concept, he constructed a telescope using reflective mirrors instead of lenses as the objective to bypass that problem.[45][46] Building the design, the first known functional reflecting telescope, today known as a Newtonian telescope,[46] involved solving the problem of a suitable mirror material and shaping technique. Newton ground his own mirrors out of a custom composition of highly reflective speculum metal, using Newton\\'s rings to judge the quality of the optics for his telescopes. In late 1668,[47] he was able to produce this first reflecting telescope. It was about eight inches long and it gave a clearer and larger image. In 1671, the Royal Society asked for a demonstration of his reflecting telescope.[48] Their interest encouraged him to publish his notes, Of Colours,[49] which he later expanded into the work Opticks. When Robert Hooke criticised some of Newton\\'s ideas, Newton was so offended that he withdrew from public debate. Newton and Hooke had brief exchanges in 1679–80, when Hooke, appointed to manage the Royal Society\\'s correspondence, opened up a correspondence intended to elicit contributions from Newton to Royal Society transactions,[50] which had the effect of stimulating Newton to work out a proof that the elliptical form of planetary orbits would result from a centripetal force inversely proportional to the square of the radius vector. But the two men remained generally on poor terms until Hooke\\'s death.[51]\\nNewton argued that light is composed of particles or corpuscles, which were refracted by accelerating into a denser medium. He verged on soundlike waves to explain the repeated pattern of reflection and transmission by thin films (Opticks Bk.II, Props. 12), but still retained his theory of \\'fits\\' that disposed corpuscles to be reflected or transmitted (Props.13). However, later physicists favoured a purely wavelike explanation of light to account for the interference patterns and the general phenomenon of diffraction. Today\\'s quantum mechanics, photons, and the idea of wave–particle duality bear only a minor resemblance to Newton\\'s understanding of light.\\nIn his Hypothesis of Light of 1675, Newton posited the existence of the ether to transmit forces between particles. The contact with the Cambridge Platonist philosopher Henry More revived his interest in alchemy.[52] He replaced the ether with occult forces based on Hermetic ideas of attraction and repulsion between particles. John Maynard Keynes, who acquired many of Newton\\'s writings on alchemy, stated that \"Newton was not the first of the age of reason: He was the last of the magicians.\"[53] Newton\\'s interest in alchemy cannot be isolated from his contributions to science.[52] This was at a time when there was no clear distinction between alchemy and science. Had he not relied on the occult idea of action at a distance, across a vacuum, he might not have developed his theory of gravity.\\nIn 1704, Newton published Opticks, in which he expounded his corpuscular theory of light. He considered light to be made up of extremely subtle corpuscles, that ordinary matter was made of grosser corpuscles and speculated that through a kind of alchemical transmutation \"Are not gross Bodies and Light convertible into one another,\\xa0... and may not Bodies receive much of their Activity from the Particles of Light which enter their Composition?\"[54] Newton also constructed a primitive form of a frictional electrostatic generator, using a glass globe.[55]\\nIn his book Opticks, Newton was the first to show a diagram using a prism as a beam expander, and also the use of multiple-prism arrays.[56] Some 278 years after Newton\\'s discussion, multiple-prism beam expanders became central to the development of narrow-linewidth tunable lasers. Also, the use of these prismatic beam expanders led to the multiple-prism dispersion theory.[56]\\nSubsequent to Newton, much has been amended. Young and Fresnel combined Newton\\'s particle theory with Huygens\\' wave theory to show that colour is the visible manifestation of light\\'s wavelength. Science also slowly came to realise the difference between perception of colour and mathematisable optics. The German poet and scientist, Goethe, could not shake the Newtonian foundation but \"one hole Goethe did find in Newton\\'s armour,\\xa0... Newton had committed himself to the doctrine that refraction without colour was impossible. He therefore thought that the object-glasses of telescopes must for ever remain imperfect, achromatism and refraction being incompatible. This inference was proved by Dollond to be wrong.\"[57]\\nIn 1679, Newton returned to his work on celestial mechanics by considering gravitation and its effect on the orbits of planets with reference to Kepler\\'s laws of planetary motion. This followed stimulation by a brief exchange of letters in 1679–80 with Hooke, who had been appointed to manage the Royal Society\\'s correspondence, and who opened a correspondence intended to elicit contributions from Newton to Royal Society transactions.[50] Newton\\'s reawakening interest in astronomical matters received further stimulus by the appearance of a comet in the winter of 1680–1681, on which he corresponded with John Flamsteed.[58] After the exchanges with Hooke, Newton worked out proof that the elliptical form of planetary orbits would result from a centripetal force inversely proportional to the square of the radius vector. Newton communicated his results to Edmond Halley and to the Royal Society in De motu corporum in gyrum, a tract written on about nine sheets which was copied into the Royal Society\\'s Register Book in December 1684.[59] This tract contained the nucleus that Newton developed and expanded to form the Principia.\\nThe Principia was published on 5 July 1687 with encouragement and financial help from Edmond Halley. In this work, Newton stated the three universal laws of motion. Together, these laws describe the relationship between any object, the forces acting upon it and the resulting motion, laying the foundation for classical mechanics. They contributed to many advances during the Industrial Revolution which soon followed and were not improved upon for more than 200 years. Many of these advancements continue to be the underpinnings of non-relativistic technologies in the modern world. He used the Latin word gravitas (weight) for the effect that would become known as gravity, and defined the law of universal gravitation.[citation needed]\\nIn the same work, Newton presented a calculus-like method of geometrical analysis using \\'first and last ratios\\', gave the first analytical determination (based on Boyle\\'s law) of the speed of sound in air, inferred the oblateness of Earth\\'s spheroidal figure, accounted for the precession of the equinoxes as a result of the Moon\\'s gravitational attraction on the Earth\\'s oblateness, initiated the gravitational study of the irregularities in the motion of the Moon, provided a theory for the determination of the orbits of comets, and much more.[citation needed]\\nNewton made clear his heliocentric view of the Solar System—developed in a somewhat modern way, because already in the mid-1680s he recognised the \"deviation of the Sun\" from the centre of gravity of the Solar System.[60] For Newton, it was not precisely the centre of the Sun or any other body that could be considered at rest, but rather \"the common centre of gravity of the Earth, the Sun and all the Planets is to be esteem\\'d the Centre of the World\", and this centre of gravity \"either is at rest or moves uniformly forward in a right line\" (Newton adopted the \"at rest\" alternative in view of common consent that the centre, wherever it was, was at rest).[61]\\nNewton\\'s postulate of an invisible force able to act over vast distances led to him being criticised for introducing \"occult agencies\" into science.[62] Later, in the second edition of the Principia (1713), Newton firmly rejected such criticisms in a concluding General Scholium, writing that it was enough that the phenomena implied a gravitational attraction, as they did; but they did not so far indicate its cause, and it was both unnecessary and improper to frame hypotheses of things that were not implied by the phenomena. (Here Newton used what became his famous expression \"hypotheses non-fingo\"[63]).\\nWith the Principia, Newton became internationally recognised.[64] He acquired a circle of admirers, including the Swiss-born mathematician Nicolas Fatio de Duillier.[65]\\nNewton found 72 of the 78 \"species\" of cubic curves and categorised them into four types.[when?] In 1717, and probably with Newton\\'s help, James Stirling proved that every cubic was one of these four types. Newton also claimed that the four types could be obtained by plane projection from one of them, and this was proved in 1731, four years after his death.[66]\\nIn the 1690s, Newton wrote a number of religious tracts dealing with the literal and symbolic interpretation of the Bible. A manuscript Newton sent to John Locke in which he disputed the fidelity of 1 John 5:7—the Johannine Comma—and its fidelity to the original manuscripts of the New Testament, remained unpublished until 1785.[67]\\nScholars long debated whether Newton disputed the doctrine of the Trinity. His first biographer, Sir David Brewster, who compiled his manuscripts, interpreted Newton as questioning the veracity of some passages used to support the Trinity, but never denying the doctrine of the Trinity as such.[68] In the twentieth century, encrypted manuscripts written by Newton and bought by John Maynard Keynes (among others) were deciphered[53] and it became known that Newton did indeed reject Trinitarianism.[69]\\nLater works—The Chronology of Ancient Kingdoms Amended (1728) and Observations Upon the Prophecies of Daniel and the Apocalypse of St. John (1733)—were published after his death. He also devoted a great deal of time to alchemy.\\nNewton was also a member of the Parliament of England for Cambridge University in 1689 and 1701, but according to some accounts his only comments were to complain about a cold draught in the chamber and request that the window be closed.[70] He was, however, noted by Cambridge diarist Abraham de la Pryme to have rebuked students who were frightening locals by claiming that a house was haunted.[71]\\nNewton moved to London to take up the post of warden of the Royal Mint in 1696, a position that he had obtained through the patronage of Charles Montagu, 1st Earl of Halifax, then Chancellor of the Exchequer. He took charge of England\\'s great recoining, trodden on the toes of Lord Lucas, Governor of the Tower, and secured the job of deputy comptroller of the temporary Chester branch for Edmond Halley. Newton became perhaps the best-known Master of the Mint upon the death of Thomas Neale in 1699, a position Newton held for the last 30\\xa0years of his life.[72][73] These appointments were intended as sinecures, but Newton took them seriously. He retired from his Cambridge duties in 1701, and exercised his authority to reform the currency and punish clippers and counterfeiters.\\nAs Warden, and afterwards as Master, of the Royal Mint, Newton estimated that 20\\xa0 per cent of the coins taken in during the Great Recoinage of 1696 were counterfeit. Counterfeiting was high treason, punishable by the felon being hanged, drawn and quartered. Despite this, convicting even the most flagrant criminals could be extremely difficult, however, Newton proved equal to the task.[74]\\nDisguised as a habitué of bars and taverns, he gathered much of that evidence himself.[75] For all the barriers placed to prosecution, and separating the branches of government, English law still had ancient and formidable customs of authority. Newton had himself made a justice of the peace in all the home counties. A draft letter regarding the matter is included in Newton\\'s personal first edition of Philosophiæ Naturalis Principia Mathematica, which he must have been amending at the time.[76] Then he conducted more than 100\\xa0cross-examinations of witnesses, informers, and suspects between June 1698 and Christmas 1699. Newton successfully prosecuted 28\\xa0coiners.[77]\\nAs a result of a report written by Newton on 21 September 1717 to the Lords Commissioners of His Majesty\\'s Treasury, the bimetallic relationship between gold coins and silver coins was changed by Royal proclamation on 22 December 1717, forbidding the exchange of gold guineas for more than 21\\xa0silver shillings.[79] This inadvertently resulted in a silver shortage as silver coins were used to pay for imports, while exports were paid for in gold, effectively moving Britain from the silver standard to its first gold standard. It is a matter of debate as to whether he intended to do this or not.[80] It has been argued that Newton conceived of his work at the Mint as a continuation of his alchemical work.[81]\\nNewton was made President of the Royal Society in 1703 and an associate of the French Académie des Sciences. In his position at the Royal Society, Newton made an enemy of John Flamsteed, the Astronomer Royal, by prematurely publishing Flamsteed\\'s Historia Coelestis Britannica, which Newton had used in his studies.[82]\\nIn April 1705, Queen Anne knighted Newton during a royal visit to Trinity College, Cambridge. The knighthood is likely to have been motivated by political considerations connected with the Parliamentary election in May 1705, rather than any recognition of Newton\\'s scientific work or services as Master of the Mint.[83] Newton was the second scientist to be knighted, after Sir Francis Bacon.[84]\\nNewton was one of many people who lost heavily when the South Sea Company collapsed. Their most significant trade was slaves, and according to his niece, he lost around £20,000.[85]\\nToward the end of his life, Newton took up residence at Cranbury Park, near Winchester with his niece and her husband, until his death in 1727.[86] His half-niece, Catherine Barton Conduitt,[87] served as his hostess in social affairs at his house on Jermyn Street in London; he was her \"very loving Uncle\",[88] according to his letter to her when she was recovering from smallpox.\\nNewton died in his sleep in London on 20 March 1727 (OS 20 March 1726; NS 31 March 1727).[a] His body was buried in Westminster Abbey.[89] Voltaire may have been present at his funeral.[90] A bachelor, he had divested much of his estate to relatives during his last years, and died intestate.[91] His papers went to John Conduitt and Catherine Barton.[92] After his death, Newton\\'s hair was examined and found to contain mercury, probably resulting from his alchemical pursuits. Mercury poisoning could explain Newton\\'s eccentricity in late life.[91]\\nAlthough it was claimed that he was once engaged,[b] Newton never married. The French writer and philosopher Voltaire, who was in London at the time of Newton\\'s funeral, said that he \"was never sensible to any passion, was not subject to the common frailties of mankind, nor had any commerce with women—a circumstance which was assured me by the physician and surgeon who attended him in his last moments\".[94] The widespread belief that he died a virgin has been commented on by writers such as mathematician Charles Hutton,[95] economist John Maynard Keynes,[96] and physicist Carl Sagan.[97]\\nNewton had a close friendship with the Swiss mathematician Nicolas Fatio de Duillier, whom he met in London around 1689[65]—some of their correspondence has survived.[98][99] Their relationship came to an abrupt and unexplained end in 1693, and at the same time Newton suffered a nervous breakdown[100] which included sending wild accusatory letters to his friends Samuel Pepys and John Locke—his note to the latter included the charge that Locke \"endeavoured to embroil me with woemen\".[101]\\nThe mathematician Joseph-Louis Lagrange said that Newton was the greatest genius who ever lived, and once added that Newton was also \"the most fortunate, for we cannot find more than once a system of the world to establish.\"[102] English poet Alexander Pope wrote the famous epitaph:\\nNature and nature\\'s laws lay hid in night;\\n\\nGod said \"Let Newton be\" and all was light.Newton was relatively modest about his achievements, writing in a letter to Robert Hooke in February 1676:\\nIf I have seen further it is by standing on the shoulders of giants.[103]Two writers think that the above quotation, written at a time when Newton and Hooke were in dispute over optical discoveries, was an oblique attack on Hooke (said to have been short and hunchbacked), rather than—or in addition to—a statement of modesty.[104][105] On the other hand, the widely known proverb about standing on the shoulders of giants, published among others by seventeenth-century poet George Herbert (a former orator of the University of Cambridge and fellow of Trinity College) in his Jacula Prudentum (1651), had as its main point that \"a dwarf on a giant\\'s shoulders sees farther of the two\", and so its effect as an analogy would place Newton himself rather than Hooke as the \\'dwarf\\'.\\nIn a later memoir, Newton wrote:\\nI do not know what I may appear to the world, but to myself I seem to have been only like a boy playing on the sea-shore, and diverting myself in now and then finding a smoother pebble or a prettier shell than ordinary, whilst the great ocean of truth lay all undiscovered before me.[106]In 1816, a tooth said to have belonged to Newton was sold for £730[107] (.mw-parser-output .smallcaps{font-variant:small-caps}us$3,633) in London to an aristocrat who had it set in a ring.[108] The Guinness World Records 2002 classified it as the most valuable tooth, which would value approximately £25,000 (us$35,700) in late 2001.[108] Who bought it and who currently has it has not been disclosed.\\nAlbert Einstein kept a picture of Newton on his study wall alongside ones of Michael Faraday and James Clerk Maxwell.[109] Newton remains influential to today\\'s scientists, as demonstrated by a 2005 survey of members of Britain\\'s Royal Society (formerly headed by Newton) asking who had the greater effect on the history of science, Newton or Einstein. Royal Society scientists deemed Newton to have made the greater overall contribution.[110] In 1999, an opinion poll of 100 of today\\'s leading physicists voted Einstein the \"greatest physicist ever;\" with Newton the runner-up, while a parallel survey of rank-and-file physicists by the site PhysicsWeb gave the top spot to Newton.[111]\\n\\nNewton\\'s monument (1731) can be seen in Westminster Abbey, at the north of the entrance to the choir against the choir screen, near his tomb. It was executed by the sculptor Michael Rysbrack (1694–1770) in white and grey marble with design by the architect William Kent. The monument features a figure of Newton reclining on top of a sarcophagus, his right elbow resting on several of his great books and his left hand pointing to a scroll with a mathematical design. Above him is a pyramid and a celestial globe showing the signs of the Zodiac and the path of the comet of 1680. A relief panel depicts putti using instruments such as a telescope and prism.[112] The Latin inscription on the base translates as:Here is buried Isaac Newton, Knight, who by a strength of mind almost divine, and mathematical principles peculiarly his own, explored the course and figures of the planets, the paths of comets, the tides of the sea, the dissimilarities in rays of light, and, what no other scholar has previously imagined, the properties of the colours thus produced. Diligent, sagacious and faithful, in his expositions of nature, antiquity and the holy Scriptures, he vindicated by his philosophy the majesty of God mighty and good, and expressed the simplicity of the Gospel in his manners. Mortals rejoice that there has existed such and so great an ornament of the human race! He was born on 25 December 1642, and died on 20 March 1726/7.—Translation from G.L. Smyth, The Monuments and Genii of St. Paul\\'s Cathedral, and of Westminster Abbey (1826), ii, 703–704.[112]From 1978 until 1988, an image of Newton designed by Harry Ecclestone appeared on Series D £1 banknotes issued by the Bank of England (the last £1 notes to be issued by the Bank of England). Newton was shown on the reverse of the notes holding a book and accompanied by a telescope, a prism and a map of the Solar System.[113]\\nA statue of Isaac Newton, looking at an apple at his feet, can be seen at the Oxford University Museum of Natural History. A large bronze statue, Newton, after William Blake, by Eduardo Paolozzi, dated 1995 and inspired by Blake\\'s etching, dominates the piazza of the British Library in London.\\nAlthough born into an Anglican family, by his thirties Newton held a Christian faith that, had it been made public, would not have been considered orthodox by mainstream Christianity;[114] in recent times he has been described as a heretic.[69]\\nBy 1672, he had started to record his theological researches in notebooks which he showed to no one and which have only recently been examined. They demonstrate an extensive knowledge of early church writings and show that in the conflict between Athanasius and Arius which defined the Creed, he took the side of Arius, the loser, who rejected the conventional view of the Trinity. Newton \"recognized Christ as a divine mediator between God and man, who was subordinate to the Father who created him.\"[115] He was especially interested in prophecy, but for him, \"the great apostasy was trinitarianism.\"[116]\\nNewton tried unsuccessfully to obtain one of the two fellowships that exempted the holder from the ordination requirement. At the last moment in 1675 he received a dispensation from the government that excused him and all future holders of the Lucasian chair.[117]\\nIn Newton\\'s eyes, worshipping Christ as God was idolatry, to him the fundamental sin. [118] Historian Stephen D. Snobelen says, \"Isaac Newton was a heretic. But\\xa0... he never made a public declaration of his private faith—which the orthodox would have deemed extremely radical. He hid his faith so well that scholars are still unravelling his personal beliefs.\"[69] Snobelen concludes that Newton was at least a Socinian sympathiser (he owned and had thoroughly read at least eight Socinian books), possibly an Arian and almost certainly an anti-trinitarian.[69]\\nIn a minority position, T.C. Pfizenmaier offers a more nuanced view, arguing that Newton held closer to the Semi-Arian view of the Trinity that Jesus Christ was of a \"similar substance\" (homoiousios) from the Father rather than the orthodox view that Jesus Christ is of the \"same substance\" of the Father (homoousios) as endorsed by modern Eastern Orthodox, Roman Catholics and Protestants.[119] However, this type of view \\'has lost support of late with the availability of Newton\\'s theological papers\\',[120] and now most scholars identify Newton as an Antitrinitarian monotheist.[69][121]\\nAlthough the laws of motion and universal gravitation became Newton\\'s best-known discoveries, he warned against using them to view the Universe as a mere machine, as if akin to a great clock. He said, \"Gravity explains the motions of the planets, but it cannot explain who set the planets in motion. God governs all things and knows all that is or can be done.\"[122]\\nAlong with his scientific fame, Newton\\'s studies of the Bible and of the early Church Fathers were also noteworthy. Newton wrote works on textual criticism, most notably An Historical Account of Two Notable Corruptions of Scripture and Observations upon the Prophecies of Daniel, and the Apocalypse of St. John.[123] He placed the crucifixion of Jesus Christ at 3 April, AD 33, which agrees with one traditionally accepted date.[124]\\nHe believed in a rationally immanent world, but he rejected the hylozoism implicit in Leibniz and Baruch Spinoza. The ordered and dynamically informed Universe could be understood, and must be understood, by an active reason. In his correspondence, Newton claimed that in writing the Principia \"I had an eye upon such Principles as might work with considering men for the belief of a Deity\".[125] He saw evidence of design in the system of the world: \"Such a wonderful uniformity in the planetary system must be allowed the effect of choice\". But Newton insisted that divine intervention would eventually be required to reform the system, due to the slow growth of instabilities.[126] For this, Leibniz lampooned him: \"God Almighty wants to wind up his watch from time to time: otherwise it would cease to move. He had not, it seems, sufficient foresight to make it a perpetual motion.\"[127]\\nNewton\\'s position was vigorously defended by his follower Samuel Clarke in a famous correspondence. A century later, Pierre-Simon Laplace\\'s work \"Celestial Mechanics\" had a natural explanation for why the planet orbits do not require periodic divine intervention.[128]\\nNewton and Robert Boyle\\'s approach to the mechanical philosophy was promoted by rationalist pamphleteers as a viable alternative to the pantheists and enthusiasts, and was accepted hesitantly by orthodox preachers as well as dissident preachers like the latitudinarians.[130] The clarity and simplicity of science was seen as a way to combat the emotional and metaphysical superlatives of both superstitious enthusiasm and the threat of atheism,[131] and at the same time, the second wave of English deists used Newton\\'s discoveries to demonstrate the possibility of a \"Natural Religion\".\\nThe attacks made against pre-Enlightenment \"magical thinking\", and the mystical elements of Christianity, were given their foundation with Boyle\\'s mechanical conception of the Universe. Newton gave Boyle\\'s ideas their completion through mathematical proofs and, perhaps more importantly, was very successful in popularising them.[132]\\nIn a manuscript he wrote in 1704 (never intended to be published) he mentions the date of 2060, but it is not given as a date for the end of days. It has been falsely reported as a prediction.[133] The passage is clear, when the date is read in context. He was against date setting for the end of days, concerned that this would put Christianity into disrepute.\\n\"So then the time times & half a time  [sic] are 42 months or 1260 days or three years & an half, recconing twelve months to a year & 30 days to a month as was done in the Calender  [sic] of the primitive year. And the days of short lived Beasts being put for the years of [long-]lived kingdoms the period of 1260 days, if dated from the complete conquest of the three kings A.C. 800, will end 2060. It may end later, but I see no reason for its ending sooner.\"[134]\\n\"This I mention not to assert when the time of the end shall be, but to put a stop to the rash conjectures of fanciful men who are frequently predicting the time of the end, and by doing so bring the sacred prophesies into discredit as often as their predictions fail. Christ comes as a thief in the night, and it is not for us to know the times and seasons which God hath put into his own breast.\"[135][133]\\nIn the character of Morton Opperly in \"Poor Superman\" (1951), speculative fiction author Fritz Leiber says of Newton, \"Everyone knows Newton as the great scientist. Few remember that he spent half his life muddling with alchemy, looking for the philosopher\\'s stone. That was the pebble by the seashore he really wanted to find.\"[136]\\nOf an estimated ten million words of writing in Newton\\'s papers, about one million deal with alchemy. Many of Newton\\'s writings on alchemy are copies of other manuscripts, with his own annotations.[92] Alchemical texts mix artisanal knowledge with philosophical speculation, often hidden behind layers of wordplay, allegory, and imagery to protect craft secrets.[137] Some of the content contained in Newton\\'s papers could have been considered heretical by the church.[92]\\nIn 1888, after spending sixteen years cataloging Newton\\'s papers, Cambridge University kept a small number and returned the rest to the Earl of Portsmouth. In 1936, a descendant offered the papers for sale at Sotheby\\'s.[138] The collection was broken up and sold for a total of about £9,000.[139] John Maynard Keynes was one of about three dozen bidders who obtained part of the collection at auction. Keynes went on to reassemble an estimated half of Newton\\'s collection of papers on alchemy before donating his collection to Cambridge University in 1946.[92][138][140]\\nAll of Newton\\'s known writings on alchemy are currently being put online in a project undertaken by Indiana University: \"The Chymistry of Isaac Newton\"[141] and summarised in a book.[142][143]\\nNewton\\'s fundamental contributions to science include the quantification of gravitational attraction, the discovery that white light is actually a mixture of immutable spectral colors, and the formulation of the calculus. Yet there is another, more mysterious side to Newton that is imperfectly known, a realm of activity that spanned some thirty years of his life, although he kept it largely hidden from his contemporaries and colleagues. We refer to Newton\\'s involvement in the discipline of alchemy, or as it was often called in seventeenth-century England, \"chymistry.\"[141]\\nEnlightenment philosophers chose a short history of scientific predecessors\\xa0– Galileo, Boyle, and Newton principally\\xa0– as the guides and guarantors of their applications of the singular concept of nature and natural law to every physical and social field of the day. In this respect, the lessons of history and the social structures built upon it could be discarded.[144]\\nIt was Newton\\'s conception of the universe based upon natural and rationally understandable laws that became one of the seeds for Enlightenment ideology.[145] Locke and Voltaire applied concepts of natural law to political systems advocating intrinsic rights; the physiocrats and Adam Smith applied natural conceptions of psychology and self-interest to economic systems; and sociologists criticised the current social order for trying to fit history into natural models of progress. Monboddo and Samuel Clarke resisted elements of Newton\\'s work, but eventually rationalised it to conform with their strong religious views of nature.\\nNewton himself often told the story that he was inspired to formulate his theory of gravitation by watching the fall of an apple from a tree.[146][147] Although it has been said that the apple story is a myth and that he did not arrive at his theory of gravity in any single moment,[148] acquaintances of Newton (such as William Stukeley, whose manuscript account of 1752 has been made available by the Royal Society) do in fact confirm the incident, though not the apocryphal version that the apple actually hit Newton\\'s head. Stukeley recorded in his Memoirs of Sir Isaac Newton\\'s Life a conversation with Newton in Kensington on 15 April 1726:[149][150][151]\\nwe went into the garden, & drank thea under the shade of some appletrees, only he, & myself. amidst other discourse, he told me, he was just in the same situation, as when formerly, the notion of gravitation came into his mind. \"why should that apple always descend perpendicularly to the ground,\" thought he to him self: occasion\\'d by the fall of an apple, as he sat in a comtemplative mood: \"why should it not go sideways, or upwards? but constantly to the earths centre? assuredly, the reason is, that the earth draws it. there must be a drawing power in matter. & the sum of the drawing power in the matter of the earth must be in the earths center, not in any side of the earth. therefore dos this apple fall perpendicularly, or toward the center. if matter thus draws matter; it must be in proportion of its quantity. therefore the apple draws the earth, as well as the earth draws the apple.\"\\nJohn Conduitt, Newton\\'s assistant at the Royal Mint and husband of Newton\\'s niece, also described the event when he wrote about Newton\\'s life:[152]\\nIn the year 1666 he retired again from Cambridge to his mother in Lincolnshire. Whilst he was pensively meandering in a garden it came into his thought that the power of gravity (which brought an apple from a tree to the ground) was not limited to a certain distance from earth, but that this power must extend much further than was usually thought. Why not as high as the Moon said he to himself & if so, that must influence her motion & perhaps retain her in her orbit, whereupon he fell a calculating what would be the effect of that supposition.\\nIn similar terms, Voltaire wrote in his Essay on Epic Poetry (1727), \"Sir Isaac Newton walking in his gardens, had the first thought of his system of gravitation, upon seeing an apple falling from a tree.\"\\nIt is known from his notebooks that Newton was grappling in the late 1660s with the idea that terrestrial gravity extends, in an inverse-square proportion, to the Moon; however it took him two decades to develop the full-fledged theory.[153] The question was not whether gravity existed, but whether it extended so far from Earth that it could also be the force holding the Moon to its orbit. Newton showed that if the force decreased as the inverse square of the distance, one could indeed calculate the Moon\\'s orbital period, and get good agreement. He guessed the same force was responsible for other orbital motions, and hence named it \"universal gravitation\".\\nVarious trees are claimed to be \"the\" apple tree which Newton describes. The King\\'s School, Grantham claims that the tree was purchased by the school, uprooted and transported to the headmaster\\'s garden some years later. The staff of the (now) National Trust-owned Woolsthorpe Manor dispute this, and claim that a tree present in their gardens is the one described by Newton. A descendant of the original tree[154] can be seen growing outside the main gate of Trinity College, Cambridge, below the room Newton lived in when he studied there. The National Fruit Collection at Brogdale in Kent[155] can supply grafts from their tree, which appears identical to Flower of Kent, a coarse-fleshed cooking variety.[156]\\nReligion\\n\\nWritings by Newton\\n{{s-aft after=The Earl of Anglesey}}\\n\\n'"
      ]
     },
     "execution_count": 20,
     "metadata": {},
     "output_type": "execute_result"
    }
   ],
   "source": [
    "article_text"
   ]
  },
  {
   "cell_type": "markdown",
   "metadata": {},
   "source": [
    "In the script above we first import the important libraries required for scraping the data from the web. We then use the urlopen function from the `urllib.request` utility to scrape the data. Next, we need to call read function on the object returned by urlopen function in order to read the data. To parse the data, we use `BeautifulSoup` object and pass it the scraped data object i.e. article and the lxml parser.\n",
    "\n",
    "In Wikipedia articles, all the text for the article is enclosed inside the <p> tags. To retrieve the text we need to call find_all function on the object returned by the `BeautifulSoup`. The tag name is passed as a parameter to the function. The find_all function returns all the paragraphs in the article in the form of a list. All the paragraphs have been combined to recreate the article.\n",
    "\n",
    "Once the article is scraped, we need to to do some preprocessing."
   ]
  },
  {
   "cell_type": "markdown",
   "metadata": {},
   "source": [
    "# Preprocessing\n",
    "The first preprocessing step is to remove references from the article. Wikipedia, references are enclosed in square brackets. The following script removes the square brackets and replaces the resulting multiple spaces by a single space. Take a look at the script below:"
   ]
  },
  {
   "cell_type": "code",
   "execution_count": 2,
   "metadata": {},
   "outputs": [],
   "source": [
    "# Removing Square Brackets and Extra Spaces\n",
    "article_text = re.sub(r'\\[[0-9]*\\]', ' ', article_text)  \n",
    "article_text = re.sub(r'\\s+', ' ', article_text)  "
   ]
  },
  {
   "cell_type": "markdown",
   "metadata": {},
   "source": [
    "The `article_text` object contains text without brackets. However, we do not want to remove anything else from the article since this is the original article. We will not remove other numbers, punctuation marks and special characters from this text since we will use this text to create summaries and weighted word frequencies will be replaced in this article.\n",
    "\n",
    "To clean the text and calculate weighted frequences, we will create another object. Take a look at the following script:"
   ]
  },
  {
   "cell_type": "code",
   "execution_count": 3,
   "metadata": {},
   "outputs": [],
   "source": [
    "# Removing special characters and digits\n",
    "formatted_article_text = re.sub('[^a-zA-Z]', ' ', article_text )  \n",
    "formatted_article_text = re.sub(r'\\s+', ' ', formatted_article_text)  "
   ]
  },
  {
   "cell_type": "markdown",
   "metadata": {},
   "source": [
    "Now we have two objects `article_text`, which contains the original article and `formatted_article_text` which contains the formatted article. We will use `formatted_article_text` to create weighted frequency histograms for the words and will replace these weighted frequencies with the words in the `article_text` object.\n",
    "\n",
    "## Converting Text To Sentences\n",
    "At this point we have preprocessed the data. Next, we need to tokenize the article into sentences. We will use the `article_text` object for tokenizing the article to sentence since it contains full stops. The `formatted_article_text` does not contain any punctuation and therefore cannot be converted into sentences using the full stop as a parameter.\n",
    "\n",
    "The following script performs sentence tokenization:"
   ]
  },
  {
   "cell_type": "code",
   "execution_count": 4,
   "metadata": {},
   "outputs": [
    {
     "name": "stdout",
     "output_type": "stream",
     "text": [
      "[nltk_data] Downloading package punkt to\n",
      "[nltk_data]     C:\\Users\\user\\AppData\\Roaming\\nltk_data...\n",
      "[nltk_data]   Package punkt is already up-to-date!\n"
     ]
    },
    {
     "data": {
      "text/plain": [
       "True"
      ]
     },
     "execution_count": 4,
     "metadata": {},
     "output_type": "execute_result"
    }
   ],
   "source": [
    "import nltk\n",
    "nltk.download('punkt')"
   ]
  },
  {
   "cell_type": "code",
   "execution_count": 5,
   "metadata": {},
   "outputs": [],
   "source": [
    "sentence_list = nltk.sent_tokenize(article_text)  "
   ]
  },
  {
   "cell_type": "markdown",
   "metadata": {},
   "source": [
    "# Find Weighted Frequency of Occurrence\n",
    "To find the frequency of occurrence of each word, we use the `formatted_article_text` variable. We used this variable to find the frequency of occurrence since it doesn't contain punctuation, digits, or other special characters. Take a look at the following script:"
   ]
  },
  {
   "cell_type": "code",
   "execution_count": 6,
   "metadata": {},
   "outputs": [],
   "source": [
    "stopwords = nltk.corpus.stopwords.words('english')\n",
    "\n",
    "word_frequencies = {}  \n",
    "for word in nltk.word_tokenize(formatted_article_text):  \n",
    "    if word not in stopwords:\n",
    "        if word not in word_frequencies.keys():\n",
    "            word_frequencies[word] = 1\n",
    "        else:\n",
    "            word_frequencies[word] += 1"
   ]
  },
  {
   "cell_type": "markdown",
   "metadata": {},
   "source": [
    "In the script above, we first store all the English stop words from the nltk library into a stopwords variable. Next, we loop through all the sentences and then corresponding words to first check if they are stop words. If not, we proceed to check whether the words exist in word_frequency dictionary i.e. word_frequencies, or not. If the word is encountered for the first time, it is added to the dictionary as a key and its value is set to 1. Otherwise, if the word previously exists in the dictionary, its value is simply updated by 1.\n",
    "\n",
    "Finally, to find the weighted frequency, we can simply divide the number of occurances of all the words by the frequency of the most occurring word, as shown below:"
   ]
  },
  {
   "cell_type": "code",
   "execution_count": 7,
   "metadata": {},
   "outputs": [],
   "source": [
    "maximum_frequncy = max(word_frequencies.values())\n",
    "\n",
    "for word in word_frequencies.keys():  \n",
    "    word_frequencies[word] = (word_frequencies[word]/maximum_frequncy)"
   ]
  },
  {
   "cell_type": "markdown",
   "metadata": {},
   "source": [
    "# Calculating Sentence Scores\n",
    "We have now calculated the weighted frequencies for all the words. Now is the time to calculate the scores for each sentence by adding weighted frequencies of the words that occur in that particular sentence. The following script calculates sentence scores:"
   ]
  },
  {
   "cell_type": "code",
   "execution_count": 16,
   "metadata": {},
   "outputs": [],
   "source": [
    "sentence_scores = {}  \n",
    "for sent in sentence_list:  \n",
    "    for word in nltk.word_tokenize(sent.lower()):\n",
    "        if word in word_frequencies.keys():\n",
    "            if len(sent.split(' ')) < 30:\n",
    "                if sent not in sentence_scores.keys():\n",
    "                    sentence_scores[sent] = word_frequencies[word]\n",
    "                else:\n",
    "                    sentence_scores[sent] += word_frequencies[word]"
   ]
  },
  {
   "cell_type": "markdown",
   "metadata": {},
   "source": [
    "In the script above, we first create an empty `sentence_scores` dictionary. The keys of this dictionary will be the sentences themselves and the values will be the corresponding scores of the sentences. Next, we loop through each sentence in the `sentence_list` and tokenize the sentence into words.\n",
    "\n",
    "We then check if the word exists in the word_frequencies dictionary. This check is performed since we created the `sentence_list` list from the article_text object; on the other hand, the word frequencies were calculated using the formatted_article_text object, which doesn't contain any stop words, numbers, etc.\n",
    "\n",
    "We do not want very long sentences in the summary, therefore, we calculate the score for only sentences with less than 30 words (although you can tweak this parameter for your own use-case). Next, we check whether the sentence exists in the `sentence_scores` dictionary or not. If the sentence doesn't exist, we add it to the `sentence_scores` dictionary as a key and assign it the weighted frequency of the first word in the sentence, as its value. On the contrary, if the sentence exists in the dictionary, we simply add the weighted frequency of the word to the existing value."
   ]
  },
  {
   "cell_type": "markdown",
   "metadata": {},
   "source": [
    "# Getting the Summary\n",
    "Now we have the sentence_scores dictionary that contains sentences with their corresponding score. To summarize the article, we can take top N sentences with the highest scores. The following script retrieves top 7 sentences and prints them on the screen."
   ]
  },
  {
   "cell_type": "code",
   "execution_count": 17,
   "metadata": {},
   "outputs": [
    {
     "name": "stdout",
     "output_type": "stream",
     "text": [
      "Newton also claimed that the four types could be obtained by plane projection from one of them, and this was proved in 1731, four years after his death. In 1679, Newton returned to his work on celestial mechanics by considering gravitation and its effect on the orbits of planets with reference to Kepler's laws of planetary motion. His work on the subject usually referred to as fluxions or calculus, seen in a manuscript of October 1666, is now published among Newton's mathematical papers. In 1665, he discovered the generalised binomial theorem and began to develop a mathematical theory that later became calculus. Building the design, the first known functional reflecting telescope, today known as a Newtonian telescope, involved solving the problem of a suitable mirror material and shaping technique. From this work, he concluded that the lens of any refracting telescope would suffer from the dispersion of light into colours (chromatic aberration). He used the Latin word gravitas (weight) for the effect that would become known as gravity, and defined the law of universal gravitation.\n"
     ]
    }
   ],
   "source": [
    "import heapq  \n",
    "summary_sentences = heapq.nlargest(7, sentence_scores, key=sentence_scores.get)\n",
    "\n",
    "summary = ' '.join(summary_sentences)  \n",
    "print(summary)  "
   ]
  },
  {
   "cell_type": "markdown",
   "metadata": {},
   "source": [
    "# Summary using Gensim"
   ]
  },
  {
   "cell_type": "code",
   "execution_count": 24,
   "metadata": {},
   "outputs": [
    {
     "name": "stdout",
     "output_type": "stream",
     "text": [
      "Newton's work has been said \"to distinctly advance every branch of mathematics then studied.\"[21] His work on the subject usually referred to as fluxions or calculus, seen in a manuscript of October 1666, is now published among Newton's mathematical papers.[22] The author of the manuscript De analysi per aequationes numero terminorum infinitas, sent by Isaac Barrow to John Collins in June 1669, was identified by Barrow in a letter sent to Collins in August of that year as \"[...] of an extraordinary genius and proficiency in these things.\"[23]\n",
      "In the same work, Newton presented a calculus-like method of geometrical analysis using 'first and last ratios', gave the first analytical determination (based on Boyle's law) of the speed of sound in air, inferred the oblateness of Earth's spheroidal figure, accounted for the precession of the equinoxes as a result of the Moon's gravitational attraction on the Earth's oblateness, initiated the gravitational study of the irregularities in the motion of the Moon, provided a theory for the determination of the orbits of comets, and much more.[citation needed]\n"
     ]
    }
   ],
   "source": [
    "print(summarize(article_text, ratio=0.01))"
   ]
  },
  {
   "cell_type": "code",
   "execution_count": null,
   "metadata": {},
   "outputs": [],
   "source": []
  }
 ],
 "metadata": {
  "kernelspec": {
   "display_name": "Python 3",
   "language": "python",
   "name": "python3"
  },
  "language_info": {
   "codemirror_mode": {
    "name": "ipython",
    "version": 3
   },
   "file_extension": ".py",
   "mimetype": "text/x-python",
   "name": "python",
   "nbconvert_exporter": "python",
   "pygments_lexer": "ipython3",
   "version": "3.6.5"
  }
 },
 "nbformat": 4,
 "nbformat_minor": 2
}
